{
  "nbformat": 4,
  "nbformat_minor": 0,
  "metadata": {
    "colab": {
      "provenance": []
    },
    "kernelspec": {
      "name": "python3",
      "display_name": "Python 3"
    },
    "language_info": {
      "name": "python"
    }
  },
  "cells": [
    {
      "cell_type": "markdown",
      "source": [
        "# Python Basics Questions"
      ],
      "metadata": {
        "id": "Gt70GDjeyxQA"
      }
    },
    {
      "cell_type": "markdown",
      "source": [
        "1. What is Python, and why is it popular?\n",
        "  - Python is a high-level and easy-to-read programming language , it is  known for its simplicity and versatility ,It is widely used in web development, data science, machine learning and more.\n",
        "\n",
        "2. What is an interpreter in Python?\n",
        "  - An interpreter in Python is a tool that reads and runs Python code one line at a time. Instead of turning the whole program into machine code before running, it processes each line as it goes. This makes it easier to find and fix errors while coding.\n",
        "\n",
        "3. What are pre-defined keywords in Python?\n",
        "  - Pre-defined keywords in Python are special words that have specific meanings and cannot be used as variable names. These keywords are part of the Python language and help define its structure. Examples include if, else, for, while, import, and def. They are used to control the flow of a program and define functions or loops\n",
        "\n",
        "4. Can keywords be used as variable names?\n",
        "  - No, keywords cannot be used as variable names in Python. They have special meanings in the language and are reserved for specific purposes.\n",
        "\n",
        "5. What is mutability in Python?\n",
        "  - Mutability in Python refers to whether an object can be changed after it is created. Mutable objects, like lists, can be modified, while immutable objects, like strings and tuples, cannot be changed once they are created.\n",
        "\n",
        "6. Why are lists mutable, but tuples are immutable?\n",
        "  - Lists are mutable because they are designed to be changed, allowing you to add, remove, or modify items. Tuples are immutable to ensure their values remain constant, making them useful for situations where data should not be altered.\n",
        "\n",
        "7. What is the difference between “==” and “is” operators in Python?\n",
        "  - The == operator checks if two values are equal, while the is operator checks if two variables point to the same object in memory.\n",
        "\n",
        "8. What are logical operators in Python?\n",
        "  - Logical operators in Python combine conditions:  \n",
        "  - **and**: True if both conditions are true.  \n",
        "  - **or**: True if at least one condition is true.  \n",
        "  - **not**: Reverses the condition's result (True becomes False).\n",
        "\n",
        "9. What is type casting in Python?\n",
        "  - Type casting in Python means converting one data type to another, like changing a string to an integer or a float to an integer. It’s done using functions like int(), float(), or str() for compatibility.\n",
        "\n",
        "10. What is the difference between implicit and explicit type casting?\n",
        "  - **Implicit type casting** is when Python automatically converts data\n",
        "      types,like `int` to `float`.\n",
        "  - **Explicit type casting** is when you manually convert data types using functions like `int()`, `float()`, or `str()` for better control.\n",
        "\n",
        "11. What is the purpose of conditional statements in Python?\n",
        "  - Conditional statements in Python let your program make decisions based on conditions. They execute specific code when a condition is true, like using if, elif, or else to control the program's flow based on logic.\n",
        "\n",
        "12. How does the elif statement work?\n",
        "  - The **elif** statement in Python checks another condition if the first **if** condition is false. It runs its code only when its condition is true. You can use multiple **elif** statements for different choices in a program.\n",
        "\n",
        "13. What is the difference between for and while loops?\n",
        "  - A **for loop** repeats for a specific number of times, often using a\n",
        "  range or list.  \n",
        "  - A **while loop** repeats as long as a condition is true, useful for uncertain repetitions.\n",
        "\n",
        "14. Describe a scenario where a while loop is more suitable than a for loop.\n",
        "  - A **while loop** is better when you don’t know how many times to repeat, like waiting for user input to meet a condition.\n"
      ],
      "metadata": {
        "id": "9DS471tDj_Ni"
      }
    },
    {
      "cell_type": "markdown",
      "source": [
        "# Practical Questions"
      ],
      "metadata": {
        "id": "OC11-n_dlt4K"
      }
    },
    {
      "cell_type": "markdown",
      "source": [
        "1. Write a Python program to print \"Hello, World!\"\n"
      ],
      "metadata": {
        "id": "fc2qqcuDlb6D"
      }
    },
    {
      "cell_type": "code",
      "source": [
        "print(\"Hello, World!\")"
      ],
      "metadata": {
        "colab": {
          "base_uri": "https://localhost:8080/"
        },
        "id": "oQPhrNOTlpGI",
        "outputId": "46cb68b6-424a-4c22-bf73-aadbb464cc43"
      },
      "execution_count": null,
      "outputs": [
        {
          "output_type": "stream",
          "name": "stdout",
          "text": [
            "Hello, World!\n"
          ]
        }
      ]
    },
    {
      "cell_type": "markdown",
      "source": [
        "2. Write a Python program that displays your name and age.\n"
      ],
      "metadata": {
        "id": "GnUBhJKPmA7K"
      }
    },
    {
      "cell_type": "code",
      "source": [
        "print(\"My name is janmayjay singh bisht and my age is 30.\")"
      ],
      "metadata": {
        "colab": {
          "base_uri": "https://localhost:8080/"
        },
        "id": "iz03mp8qlu_O",
        "outputId": "08e553c1-74ce-49fc-bfac-99b19440117e"
      },
      "execution_count": null,
      "outputs": [
        {
          "output_type": "stream",
          "name": "stdout",
          "text": [
            "My name is janmayjay singh bisht and my age is 30.\n"
          ]
        }
      ]
    },
    {
      "cell_type": "markdown",
      "source": [
        "3.  Write code to print all the pre-defined keywords in Python using the keyword library.\n"
      ],
      "metadata": {
        "id": "3GDGoD7dm2QP"
      }
    },
    {
      "cell_type": "code",
      "source": [
        "import keyword\n",
        "\n",
        "\n",
        "print(\"Python keywords are:\")\n",
        "for i in keyword.kwlist:\n",
        "    print(i)\n"
      ],
      "metadata": {
        "colab": {
          "base_uri": "https://localhost:8080/"
        },
        "id": "nZ73IZMKmTx_",
        "outputId": "d345eab7-117d-49d4-b90b-43a783b0d85e"
      },
      "execution_count": null,
      "outputs": [
        {
          "output_type": "stream",
          "name": "stdout",
          "text": [
            "Python keywords are:\n",
            "False\n",
            "None\n",
            "True\n",
            "and\n",
            "as\n",
            "assert\n",
            "async\n",
            "await\n",
            "break\n",
            "class\n",
            "continue\n",
            "def\n",
            "del\n",
            "elif\n",
            "else\n",
            "except\n",
            "finally\n",
            "for\n",
            "from\n",
            "global\n",
            "if\n",
            "import\n",
            "in\n",
            "is\n",
            "lambda\n",
            "nonlocal\n",
            "not\n",
            "or\n",
            "pass\n",
            "raise\n",
            "return\n",
            "try\n",
            "while\n",
            "with\n",
            "yield\n"
          ]
        }
      ]
    },
    {
      "cell_type": "markdown",
      "source": [
        "4. Write a program that checks if a given word is a Python keyword.\n",
        "\n",
        "\n"
      ],
      "metadata": {
        "id": "6fJ7JtqkoeWq"
      }
    },
    {
      "cell_type": "code",
      "source": [
        "import keyword\n",
        "a= input()\n",
        "if a in keyword.kwlist:\n",
        "   print(a+\" is a python keyword.\")\n",
        "else:\n",
        "   print(a+\" is not a python keyword.\")\n"
      ],
      "metadata": {
        "colab": {
          "base_uri": "https://localhost:8080/"
        },
        "id": "u1GhxzmMooMl",
        "outputId": "245a4317-e7a1-40b0-f9cd-fffad2627f69"
      },
      "execution_count": null,
      "outputs": [
        {
          "output_type": "stream",
          "name": "stdout",
          "text": [
            "False\n",
            "False is a python keyword.\n"
          ]
        }
      ]
    },
    {
      "cell_type": "markdown",
      "source": [
        "5. Create a list and tuple in Python, and demonstrate how attempting to change an element works differently for each."
      ],
      "metadata": {
        "id": "nW0eWZmyqi7-"
      }
    },
    {
      "cell_type": "code",
      "source": [
        "my_list = [1, 2, 3]\n",
        "my_tuple = (1, 2, 3)\n",
        "\n",
        "print(\"Original list:\", my_list)\n",
        "my_list[1] = 99\n",
        "print(\"Modified list:\", my_list)\n",
        "\n",
        "print(\"\\nOriginal tuple:\", my_tuple)\n",
        "try:\n",
        "    my_tuple[1] = 99\n",
        "except TypeError as e:\n",
        "    print(\"Error:\", e)\n"
      ],
      "metadata": {
        "colab": {
          "base_uri": "https://localhost:8080/"
        },
        "id": "CL012IEHpqOZ",
        "outputId": "a0261da2-bd3d-4a5a-a541-d48e139153ee"
      },
      "execution_count": null,
      "outputs": [
        {
          "output_type": "stream",
          "name": "stdout",
          "text": [
            "Original list: [1, 2, 3]\n",
            "Modified list: [1, 99, 3]\n",
            "\n",
            "Original tuple: (1, 2, 3)\n",
            "Error: 'tuple' object does not support item assignment\n"
          ]
        }
      ]
    },
    {
      "cell_type": "markdown",
      "source": [
        "6 and 7. Write a function to demonstrate the behavior of mutable and immutable arguments."
      ],
      "metadata": {
        "id": "N58J_kkDr3l6"
      }
    },
    {
      "cell_type": "code",
      "source": [
        "def mutable_and_immutable(a, b):\n",
        "    print(\"Before changing immutable:\", a)\n",
        "    a += 1\n",
        "    print(\"After changing immutable:\", a)\n",
        "\n",
        "    print(\"Before changing mutable:\", b)\n",
        "    b.append(4)\n",
        "    print(\"After changing mutable:\", b)\n",
        "\n",
        "immutable_var = 10\n",
        "mutable_var = [1, 2, 3]\n",
        "\n",
        "mutable_and_immutable(immutable_var, mutable_var)\n",
        "print(\"Outside function (immutable):\", immutable_var)\n",
        "print(\"Outside function (mutable):\", mutable_var)\n"
      ],
      "metadata": {
        "colab": {
          "base_uri": "https://localhost:8080/"
        },
        "id": "VDrarqFirFqW",
        "outputId": "eaa65074-d8b4-44a2-cfe0-faf2524c4119"
      },
      "execution_count": null,
      "outputs": [
        {
          "output_type": "stream",
          "name": "stdout",
          "text": [
            "Before changing immutable: 10\n",
            "After changing immutable: 11\n",
            "Before changing mutable: [1, 2, 3]\n",
            "After changing mutable: [1, 2, 3, 4]\n",
            "Outside function (immutable): 10\n",
            "Outside function (mutable): [1, 2, 3, 4]\n"
          ]
        }
      ]
    },
    {
      "cell_type": "markdown",
      "source": [
        "8. Write a program to demonstrate the use of logical operators.\n"
      ],
      "metadata": {
        "id": "EdAu1Lz3xU_h"
      }
    },
    {
      "cell_type": "code",
      "source": [
        "def logical_operators(a, b):\n",
        "    print(\"a =\", a, \", b =\", b)\n",
        "    print(\"AND Operator (a > 0 and b > 0):\", a > 0 and b > 0)\n",
        "    print(\"OR Operator (a > 0 or b > 0):\", a > 0 or b > 0)\n",
        "    print(\"NOT Operator (not a):\", not a)\n",
        "\n",
        "logical_operators(5, -3)\n",
        "logical_operators(0, 2)\n"
      ],
      "metadata": {
        "id": "9zy5Wzr8sK-w",
        "colab": {
          "base_uri": "https://localhost:8080/"
        },
        "outputId": "44d73e52-824d-4647-db04-d474abb7dc9f"
      },
      "execution_count": null,
      "outputs": [
        {
          "output_type": "stream",
          "name": "stdout",
          "text": [
            "a = 5 , b = -3\n",
            "AND Operator (a > 0 and b > 0): False\n",
            "OR Operator (a > 0 or b > 0): True\n",
            "NOT Operator (not a): False\n",
            "a = 0 , b = 2\n",
            "AND Operator (a > 0 and b > 0): False\n",
            "OR Operator (a > 0 or b > 0): True\n",
            "NOT Operator (not a): True\n"
          ]
        }
      ]
    },
    {
      "cell_type": "markdown",
      "source": [
        "9. Write a Python program to convert user input from string to integer, float, and boolean types."
      ],
      "metadata": {
        "id": "gSNtG_C-xcg_"
      }
    },
    {
      "cell_type": "code",
      "source": [
        "user_input = input(\"Enter a value: \")\n",
        "\n",
        "try:\n",
        "    int_value = int(user_input)\n",
        "    float_value = float(user_input)\n",
        "    bool_value = bool(user_input)\n",
        "    print(\"Integer:\", int_value)\n",
        "    print(\"Float:\", float_value)\n",
        "    print(\"Boolean:\", bool_value)\n",
        "except ValueError:\n",
        "    print(\"Conversion failed. Please enter a numeric value.\")\n"
      ],
      "metadata": {
        "colab": {
          "base_uri": "https://localhost:8080/"
        },
        "id": "trNhJwwtxV8d",
        "outputId": "8a0dd034-d2b7-4590-d884-21bd98cda4a4"
      },
      "execution_count": null,
      "outputs": [
        {
          "output_type": "stream",
          "name": "stdout",
          "text": [
            "Enter a value: 123\n",
            "Integer: 123\n",
            "Float: 123.0\n",
            "Boolean: True\n"
          ]
        }
      ]
    },
    {
      "cell_type": "markdown",
      "source": [
        "10. Write code to demonstrate type casting with list elements."
      ],
      "metadata": {
        "id": "02v3hNhUxlVA"
      }
    },
    {
      "cell_type": "code",
      "source": [
        "my_list = [\"10\", \"20\", \"30\", \"40\"]\n",
        "\n",
        "int_list = []\n",
        "for x in my_list:\n",
        "    int_list.append(int(x))\n",
        "print(\"Converted to Integers:\", int_list)\n",
        "\n",
        "float_list = []\n",
        "for x in my_list:\n",
        "    float_list.append(float(x))\n",
        "print(\"Converted to Floats:\", float_list)\n"
      ],
      "metadata": {
        "colab": {
          "base_uri": "https://localhost:8080/"
        },
        "id": "vw56TPapxgqf",
        "outputId": "e3417648-dbbf-429f-ff78-1daeb07288be"
      },
      "execution_count": null,
      "outputs": [
        {
          "output_type": "stream",
          "name": "stdout",
          "text": [
            "Converted to Integers: [10, 20, 30, 40]\n",
            "Converted to Floats: [10.0, 20.0, 30.0, 40.0]\n"
          ]
        }
      ]
    },
    {
      "cell_type": "markdown",
      "source": [
        "11. Write a program that checks if a number is positive, negative, or zero.\n",
        "\n"
      ],
      "metadata": {
        "id": "ITjuos05xqOA"
      }
    },
    {
      "cell_type": "code",
      "source": [
        "number = int(input(\"Enter a number: \"))\n",
        "\n",
        "if number > 0:\n",
        "    print(\"The number is Positive.\")\n",
        "elif number < 0:\n",
        "    print(\"The number is Negative.\")\n",
        "else:\n",
        "    print(\"The number is Zero.\")\n"
      ],
      "metadata": {
        "colab": {
          "base_uri": "https://localhost:8080/"
        },
        "id": "5s1tTrfYxn0m",
        "outputId": "7bdc041e-3018-4e95-b520-1dc268e856c0"
      },
      "execution_count": null,
      "outputs": [
        {
          "output_type": "stream",
          "name": "stdout",
          "text": [
            "Enter a number: 2345\n",
            "The number is Positive.\n"
          ]
        }
      ]
    },
    {
      "cell_type": "markdown",
      "source": [
        "12. Write a for loop to print numbers from 1 to 10.\n"
      ],
      "metadata": {
        "id": "Giv6rn6GzDNB"
      }
    },
    {
      "cell_type": "code",
      "source": [
        "print(\"Numbers from 1 to 10:\")\n",
        "for i in range(1, 11):\n",
        "    print(i, end=\" \")\n"
      ],
      "metadata": {
        "colab": {
          "base_uri": "https://localhost:8080/"
        },
        "id": "JYdXq-Y6xuIA",
        "outputId": "890dc201-7a80-4c67-9eb7-fd6d7a113e6e"
      },
      "execution_count": null,
      "outputs": [
        {
          "output_type": "stream",
          "name": "stdout",
          "text": [
            "Numbers from 1 to 10:\n",
            "1 2 3 4 5 6 7 8 9 10 "
          ]
        }
      ]
    },
    {
      "cell_type": "markdown",
      "source": [
        "13. Write a Python program to find the sum of all even numbers between 1 and 50."
      ],
      "metadata": {
        "id": "53or1C1tz32p"
      }
    },
    {
      "cell_type": "code",
      "source": [
        "even_sum = 0\n",
        "for i in range(1, 51):\n",
        "    if i % 2 == 0:\n",
        "        even_sum += i\n",
        "\n",
        "print(\"The sum of all even numbers between 1 and 50 is:\", even_sum)\n"
      ],
      "metadata": {
        "colab": {
          "base_uri": "https://localhost:8080/"
        },
        "id": "WwuwRnLYzHS9",
        "outputId": "5b41b81d-00b4-45ca-e042-531a6ec360e5"
      },
      "execution_count": null,
      "outputs": [
        {
          "output_type": "stream",
          "name": "stdout",
          "text": [
            "The sum of all even numbers between 1 and 50 is: 650\n"
          ]
        }
      ]
    },
    {
      "cell_type": "markdown",
      "source": [
        "14. Write a program to reverse a string using a while loop."
      ],
      "metadata": {
        "id": "1tKzcynI0Awi"
      }
    },
    {
      "cell_type": "code",
      "source": [
        "original_string = input(\"Enter a string to reverse: \")\n",
        "\n",
        "reversed_string = \"\"\n",
        "i = len(original_string) - 1\n",
        "\n",
        "while i >= 0:\n",
        "    reversed_string = reversed_string + original_string[i]\n",
        "    i -= 1\n",
        "\n",
        "print(\"Reversed string:\", reversed_string)\n"
      ],
      "metadata": {
        "colab": {
          "base_uri": "https://localhost:8080/"
        },
        "id": "fDdZFNdgz9zH",
        "outputId": "79e0aa06-bc91-4c98-a12d-0acd5df7a9e6"
      },
      "execution_count": null,
      "outputs": [
        {
          "output_type": "stream",
          "name": "stdout",
          "text": [
            "Enter a string to reverse: edc\n",
            "Reversed string: cde\n"
          ]
        }
      ]
    },
    {
      "cell_type": "markdown",
      "source": [
        "15. Write a Python program to calculate the factorial of a number provided by the user using a while loop."
      ],
      "metadata": {
        "id": "UQlgJVFR0L3T"
      }
    },
    {
      "cell_type": "code",
      "source": [
        "num = int(input(\"Enter a number to calculate its factorial: \"))\n",
        "\n",
        "factorial = 1\n",
        "i = 1\n",
        "\n",
        "while i <= num:\n",
        "    factorial *= i\n",
        "    i += 1\n",
        "\n",
        "print(f\"The factorial of {num} is: {factorial}\")\n"
      ],
      "metadata": {
        "colab": {
          "base_uri": "https://localhost:8080/"
        },
        "id": "Nx7AodWS0I2D",
        "outputId": "8a4dd94d-b04e-457e-a1c5-fb97e9f21e30"
      },
      "execution_count": null,
      "outputs": [
        {
          "output_type": "stream",
          "name": "stdout",
          "text": [
            "Enter a number to calculate its factorial: 4\n",
            "The factorial of 4 is: 24\n"
          ]
        }
      ]
    },
    {
      "cell_type": "code",
      "source": [],
      "metadata": {
        "id": "okIaKJPU0R8g"
      },
      "execution_count": null,
      "outputs": []
    }
  ]
}